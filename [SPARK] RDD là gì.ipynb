{
 "cells": [
  {
   "cell_type": "markdown",
   "metadata": {},
   "source": [
    "# **RDD** (**R**esilient **D**istributed **D**ataset)\n",
    "- Tập dữ liệu phân tán có khả năng phục hồi.\n",
    "- Tính phân tán : vì chúng được phân tán trên mỗi **worker** để xử lí song song, nó xử lí nhanh là vì nó chạy bằng **memory** , trên **memory** thay vì gọi bằng **block** dữ liệu thì chúng ta sẽ gọi bằng \n",
    "**partision**\n",
    "- Tính **Resilient** :\n",
    "    - Ta có các bước ***transformation*** : \n",
    "        - ***RDD1 = load data from HDFS to Memory***\n",
    "        - ***RDD2 = RDD1.filter()***\n",
    "        - ***RDD3 = RDD2.groupby()***\n",
    "    - ***acction*** \n",
    "        - **RDD3.show()**\n",
    "    - ví dụ như ***RDD3*** bị lỗi thì nó chỉ thực hiện lại ***RDD2.groupby()*** và không phải thực hiện lại từ đầu .\n",
    "\n",
    "### Tổng kết \n",
    "- Thì RDD là một tập dữ liệu trên Memory tập dữ liệu này có tính 2 tính chất :\n",
    "    - Thứ 1 : phân tán (**D**istributed) theo những cái partision\n",
    "    - Thứ 2 : phục hồi (**R**esilient) khi có lỗi xảy ra "
   ]
  }
 ],
 "metadata": {
  "language_info": {
   "name": "python"
  }
 },
 "nbformat": 4,
 "nbformat_minor": 2
}
