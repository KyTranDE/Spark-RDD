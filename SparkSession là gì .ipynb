{
 "cells": [
  {
   "cell_type": "markdown",
   "metadata": {},
   "source": [
    "- **sparkSession** nó giống như một cái **Entrypoin** , giống một cái cổng khi bạn muốn thực hiện những cái gì liên quan đến **spark** thì phải đi qua **sparkSession**\n",
    "- Bên trong nó có  :\n",
    "    - **sparkContext**\n",
    "    - **hiveContext**\n",
    "    - **sqlContext**\n",
    "- Tại làm sao mà không sử dụng mỗi **sparkSession** mà phải chia ra **sparkContext**,... :\n",
    "    - Thì bình thường chúng ta làm việc thì có **RDD**, **DataFrame**, **sqlSpark**.\n",
    "    - Với **RDD** chúng ta chỉ sử dụng được với **sparkContext** mà thôi nếu mà dùng **sparkSession** thì nó không hoạt động.\n",
    "    - Với **DataFrame** thì chúng ta phải sử dụng **sparkSession**\n"
   ]
  }
 ],
 "metadata": {
  "language_info": {
   "name": "python"
  }
 },
 "nbformat": 4,
 "nbformat_minor": 2
}
